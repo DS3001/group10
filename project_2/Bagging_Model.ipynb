{
  "nbformat": 4,
  "nbformat_minor": 0,
  "metadata": {
    "colab": {
      "provenance": [],
      "authorship_tag": "ABX9TyMljrssxQlJ/4Sg3wGCGvgH",
      "include_colab_link": true
    },
    "kernelspec": {
      "name": "python3",
      "display_name": "Python 3"
    },
    "language_info": {
      "name": "python"
    }
  },
  "cells": [
    {
      "cell_type": "markdown",
      "metadata": {
        "id": "view-in-github",
        "colab_type": "text"
      },
      "source": [
        "<a href=\"https://colab.research.google.com/github/DS3001/group10/blob/main/project_2/Bagging_Model.ipynb\" target=\"_parent\"><img src=\"https://colab.research.google.com/assets/colab-badge.svg\" alt=\"Open In Colab\"/></a>"
      ]
    },
    {
      "cell_type": "code",
      "execution_count": 10,
      "metadata": {
        "colab": {
          "base_uri": "https://localhost:8080/"
        },
        "id": "I1sW7gmID7af",
        "outputId": "1874b2e9-c94b-4a67-eb76-3608ba854aba"
      },
      "outputs": [
        {
          "output_type": "stream",
          "name": "stdout",
          "text": [
            "fatal: destination path 'group10' already exists and is not an empty directory.\n"
          ]
        }
      ],
      "source": [
        "! git clone https://github.com/DS3001/group10.git"
      ]
    },
    {
      "cell_type": "code",
      "source": [
        "import pandas as pd\n",
        "import numpy as np\n",
        "from sklearn.ensemble import BaggingClassifier\n",
        "np.random.seed(1107)"
      ],
      "metadata": {
        "id": "zOTn-WfcEnQb"
      },
      "execution_count": 33,
      "outputs": []
    },
    {
      "cell_type": "code",
      "source": [
        "df_train = pd.read_csv('group10/project_2/data/training_data.csv')\n",
        "df_test = pd.read_csv('group10/project_2/data/testing_data.csv')"
      ],
      "metadata": {
        "id": "fIdcuNNWEr3U"
      },
      "execution_count": 12,
      "outputs": []
    },
    {
      "cell_type": "code",
      "source": [
        "df_train['ever_married'] = df_train['ever_married'].replace({\"No\":0, \"Yes\":1})\n",
        "df_test['ever_married'] = df_test['ever_married'].replace({\"No\":0, \"Yes\":1})\n",
        "\n",
        "df_train['Residence_type'] = df_train['Residence_type'].replace({\"Urban\":0, \"Rural\":1})\n",
        "df_test['Residence_type'] = df_test['Residence_type'].replace({\"Urban\":0, \"Rural\":1})\n",
        "\n",
        "df_train['gender'] = df_train['gender'].replace({\"Male\":0, \"Female\":1, \"Other\":2})\n",
        "df_test['gender'] = df_test['gender'].replace({\"Male\":0, \"Female\":1, \"Other\":2})\n",
        "\n",
        "df_train['smoking_status'] = df_train['smoking_status'].replace({\"never smoked\":0, \"formerly smoked\":1, \"smokes\":2,\n",
        "                                                          \"Unknown\":3})\n",
        "df_test['smoking_status'] = df_test['smoking_status'].replace({\"never smoked\":0, \"formerly smoked\":1, \"smokes\":2,\n",
        "                                                          \"Unknown\":3})\n",
        "\n",
        "df_train['work_type'] = df_train['work_type'].replace({\"Never_worked\":0, \"children\":1, \"Govt_job\":2,\n",
        "                                                          \"Private\":3, \"Self-employed\":4})\n",
        "df_test['work_type'] = df_test['work_type'].replace({\"Never_worked\":0, \"children\":1, \"Govt_job\":2,\n",
        "                                                          \"Private\":3, \"Self-employed\":4})"
      ],
      "metadata": {
        "id": "9T7j3EDDEwFf"
      },
      "execution_count": 13,
      "outputs": []
    },
    {
      "cell_type": "code",
      "source": [
        "y_train = df_train['stroke']\n",
        "X_train = df_train.drop('stroke',axis=1)\n",
        "y_test = df_test['stroke']\n",
        "X_test = df_test.drop('stroke',axis=1)\n",
        "\n",
        "X_train['bmi'] = X_train['bmi'].fillna(X_train['bmi'].mean())\n",
        "X_test['bmi'] = X_test['bmi'].fillna(X_test['bmi'].mean())"
      ],
      "metadata": {
        "id": "RoS3QlJjEmEW"
      },
      "execution_count": 14,
      "outputs": []
    },
    {
      "cell_type": "code",
      "source": [
        "from sklearn.linear_model import LinearRegression as lr\n",
        "\n",
        "TSS = np.sum( (y_test - y_test.mean())**2 )\n",
        "N_test = len(y_test)\n",
        "\n",
        "#fitting model and making predictions for test data\n",
        "reg = lr().fit(X_train, y_train)\n",
        "y_hat = reg.predict(X_test)\n",
        "\n",
        "#calculating r-squared\n",
        "rsqu = reg.score(X_test, y_test)\n",
        "print(\"R-Squared: \", rsqu )\n",
        "\n",
        "#calculating RMSE\n",
        "SSE_lm =np.sum((y_test-y_hat)**2)\n",
        "RMSE_lm = (SSE_lm/N_test)**(1/2)\n",
        "R2_lm = 1-SSE_lm/TSS\n",
        "print('RMSE: ', RMSE_lm)"
      ],
      "metadata": {
        "colab": {
          "base_uri": "https://localhost:8080/"
        },
        "id": "D9l8BUt3EJmZ",
        "outputId": "add89769-3055-437a-c1f8-7c347ff6104a"
      },
      "execution_count": 15,
      "outputs": [
        {
          "output_type": "stream",
          "name": "stdout",
          "text": [
            "R-Squared:  0.1887085581105703\n",
            "RMSE:  0.19420224046776433\n"
          ]
        }
      ]
    },
    {
      "cell_type": "code",
      "source": [
        "# bagging!\n",
        "bag = BaggingClassifier(n_estimators=4, random_state=0)\n",
        "\n",
        "reg = bag.fit(X_train, y_train)\n",
        "y_hat = reg.predict(X_test)\n",
        "\n",
        "#calculating r-squared\n",
        "rsqu = reg.score(X_test, y_test)\n",
        "print(\"R-Squared: \", rsqu )\n",
        "\n",
        "#calculating RMSE\n",
        "SSE_lm =np.sum((y_test-y_hat)**2)\n",
        "RMSE_lm = (SSE_lm/N_test)**(1/2)\n",
        "R2_lm = 1-SSE_lm/TSS\n",
        "print('RMSE: ', RMSE_lm)"
      ],
      "metadata": {
        "colab": {
          "base_uri": "https://localhost:8080/"
        },
        "id": "QI6FaA32G78A",
        "outputId": "84fd582b-638c-4563-8853-a04aa23b6ff7"
      },
      "execution_count": 40,
      "outputs": [
        {
          "output_type": "stream",
          "name": "stdout",
          "text": [
            "R-Squared:  0.9990224828934506\n",
            "RMSE:  0.03126526997403612\n"
          ]
        }
      ]
    },
    {
      "cell_type": "code",
      "source": [
        "# bagging! -- overfit\n",
        "bag = BaggingClassifier(n_estimators=5, random_state=0)\n",
        "\n",
        "reg = bag.fit(X_train, y_train)\n",
        "y_hat = reg.predict(X_test)\n",
        "\n",
        "#calculating r-squared\n",
        "rsqu = reg.score(X_test, y_test)\n",
        "print(\"R-Squared: \", rsqu )\n",
        "\n",
        "#calculating RMSE\n",
        "SSE_lm =np.sum((y_test-y_hat)**2)\n",
        "RMSE_lm = (SSE_lm/N_test)**(1/2)\n",
        "R2_lm = 1-SSE_lm/TSS\n",
        "print('RMSE: ', RMSE_lm)"
      ],
      "metadata": {
        "colab": {
          "base_uri": "https://localhost:8080/"
        },
        "id": "Si6lOrSJHbhd",
        "outputId": "120b21f7-6173-4018-b8b2-58f66b894b85"
      },
      "execution_count": 41,
      "outputs": [
        {
          "output_type": "stream",
          "name": "stdout",
          "text": [
            "R-Squared:  1.0\n",
            "RMSE:  0.0\n"
          ]
        }
      ]
    },
    {
      "cell_type": "code",
      "source": [],
      "metadata": {
        "id": "OCJocq54HhN1"
      },
      "execution_count": null,
      "outputs": []
    }
  ]
}