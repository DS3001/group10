{
 "cells": [
  {
   "cell_type": "code",
   "execution_count": 4,
   "metadata": {},
   "outputs": [
    {
     "name": "stdout",
     "output_type": "stream",
     "text": [
      "fatal: destination path 'group10' already exists and is not an empty directory.\n"
     ]
    }
   ],
   "source": [
    "! git clone https://github.com/DS3001/group10/"
   ]
  },
  {
   "cell_type": "code",
   "execution_count": 5,
   "metadata": {},
   "outputs": [],
   "source": [
    "#loading packages\n",
    "import pandas as pd\n",
    "import numpy as np"
   ]
  },
  {
   "cell_type": "code",
   "execution_count": 6,
   "metadata": {},
   "outputs": [
    {
     "data": {
      "text/plain": [
       "'/sfs/qumulo/qhome/acb4rn/probability'"
      ]
     },
     "execution_count": 6,
     "metadata": {},
     "output_type": "execute_result"
    }
   ],
   "source": [
    "pwd"
   ]
  },
  {
   "cell_type": "code",
   "execution_count": 7,
   "metadata": {},
   "outputs": [],
   "source": [
    "import os\n",
    "os.chdir('/sfs/qumulo/qhome/acb4rn/group10/project_2')"
   ]
  },
  {
   "cell_type": "code",
   "execution_count": 8,
   "metadata": {},
   "outputs": [
    {
     "data": {
      "text/html": [
       "<div>\n",
       "<style scoped>\n",
       "    .dataframe tbody tr th:only-of-type {\n",
       "        vertical-align: middle;\n",
       "    }\n",
       "\n",
       "    .dataframe tbody tr th {\n",
       "        vertical-align: top;\n",
       "    }\n",
       "\n",
       "    .dataframe thead th {\n",
       "        text-align: right;\n",
       "    }\n",
       "</style>\n",
       "<table border=\"1\" class=\"dataframe\">\n",
       "  <thead>\n",
       "    <tr style=\"text-align: right;\">\n",
       "      <th></th>\n",
       "      <th>Unnamed: 0</th>\n",
       "      <th>id</th>\n",
       "      <th>gender</th>\n",
       "      <th>age</th>\n",
       "      <th>hypertension</th>\n",
       "      <th>heart_disease</th>\n",
       "      <th>ever_married</th>\n",
       "      <th>work_type</th>\n",
       "      <th>Residence_type</th>\n",
       "      <th>avg_glucose_level</th>\n",
       "      <th>bmi</th>\n",
       "      <th>smoking_status</th>\n",
       "      <th>stroke</th>\n",
       "    </tr>\n",
       "  </thead>\n",
       "  <tbody>\n",
       "    <tr>\n",
       "      <th>0</th>\n",
       "      <td>2465</td>\n",
       "      <td>68685</td>\n",
       "      <td>Male</td>\n",
       "      <td>36.0</td>\n",
       "      <td>0</td>\n",
       "      <td>0</td>\n",
       "      <td>Yes</td>\n",
       "      <td>Govt_job</td>\n",
       "      <td>Urban</td>\n",
       "      <td>65.87</td>\n",
       "      <td>32.2</td>\n",
       "      <td>formerly smoked</td>\n",
       "      <td>0</td>\n",
       "    </tr>\n",
       "    <tr>\n",
       "      <th>1</th>\n",
       "      <td>4311</td>\n",
       "      <td>59058</td>\n",
       "      <td>Female</td>\n",
       "      <td>45.0</td>\n",
       "      <td>0</td>\n",
       "      <td>0</td>\n",
       "      <td>Yes</td>\n",
       "      <td>Govt_job</td>\n",
       "      <td>Rural</td>\n",
       "      <td>68.66</td>\n",
       "      <td>25.3</td>\n",
       "      <td>never smoked</td>\n",
       "      <td>0</td>\n",
       "    </tr>\n",
       "    <tr>\n",
       "      <th>2</th>\n",
       "      <td>2375</td>\n",
       "      <td>46068</td>\n",
       "      <td>Male</td>\n",
       "      <td>58.0</td>\n",
       "      <td>0</td>\n",
       "      <td>0</td>\n",
       "      <td>No</td>\n",
       "      <td>Self-employed</td>\n",
       "      <td>Rural</td>\n",
       "      <td>170.93</td>\n",
       "      <td>30.7</td>\n",
       "      <td>Unknown</td>\n",
       "      <td>0</td>\n",
       "    </tr>\n",
       "    <tr>\n",
       "      <th>3</th>\n",
       "      <td>5017</td>\n",
       "      <td>36837</td>\n",
       "      <td>Female</td>\n",
       "      <td>61.0</td>\n",
       "      <td>0</td>\n",
       "      <td>0</td>\n",
       "      <td>Yes</td>\n",
       "      <td>Self-employed</td>\n",
       "      <td>Urban</td>\n",
       "      <td>69.88</td>\n",
       "      <td>27.1</td>\n",
       "      <td>never smoked</td>\n",
       "      <td>0</td>\n",
       "    </tr>\n",
       "    <tr>\n",
       "      <th>4</th>\n",
       "      <td>753</td>\n",
       "      <td>30550</td>\n",
       "      <td>Female</td>\n",
       "      <td>78.0</td>\n",
       "      <td>0</td>\n",
       "      <td>0</td>\n",
       "      <td>No</td>\n",
       "      <td>Private</td>\n",
       "      <td>Urban</td>\n",
       "      <td>103.86</td>\n",
       "      <td>30.6</td>\n",
       "      <td>Unknown</td>\n",
       "      <td>0</td>\n",
       "    </tr>\n",
       "  </tbody>\n",
       "</table>\n",
       "</div>"
      ],
      "text/plain": [
       "   Unnamed: 0     id  gender   age  hypertension  heart_disease ever_married  \\\n",
       "0        2465  68685    Male  36.0             0              0          Yes   \n",
       "1        4311  59058  Female  45.0             0              0          Yes   \n",
       "2        2375  46068    Male  58.0             0              0           No   \n",
       "3        5017  36837  Female  61.0             0              0          Yes   \n",
       "4         753  30550  Female  78.0             0              0           No   \n",
       "\n",
       "       work_type Residence_type  avg_glucose_level   bmi   smoking_status  \\\n",
       "0       Govt_job          Urban              65.87  32.2  formerly smoked   \n",
       "1       Govt_job          Rural              68.66  25.3     never smoked   \n",
       "2  Self-employed          Rural             170.93  30.7          Unknown   \n",
       "3  Self-employed          Urban              69.88  27.1     never smoked   \n",
       "4        Private          Urban             103.86  30.6          Unknown   \n",
       "\n",
       "   stroke  \n",
       "0       0  \n",
       "1       0  \n",
       "2       0  \n",
       "3       0  \n",
       "4       0  "
      ]
     },
     "execution_count": 8,
     "metadata": {},
     "output_type": "execute_result"
    }
   ],
   "source": [
    "#loading in training and testing data\n",
    "train = pd.read_csv(\"./data/training_data.csv\")\n",
    "test = pd.read_csv(\"./data/testing_data.csv\")\n",
    "train.head()"
   ]
  },
  {
   "cell_type": "code",
   "execution_count": 9,
   "metadata": {},
   "outputs": [
    {
     "data": {
      "text/plain": [
       "array(['Yes', 'No'], dtype=object)"
      ]
     },
     "execution_count": 9,
     "metadata": {},
     "output_type": "execute_result"
    }
   ],
   "source": [
    "train['ever_married'].unique()"
   ]
  },
  {
   "cell_type": "code",
   "execution_count": 10,
   "metadata": {},
   "outputs": [
    {
     "name": "stdout",
     "output_type": "stream",
     "text": [
      "[1 0]\n"
     ]
    },
    {
     "data": {
      "text/plain": [
       "array([1, 0])"
      ]
     },
     "execution_count": 10,
     "metadata": {},
     "output_type": "execute_result"
    }
   ],
   "source": [
    "#changing ever_married to 0 (no) and 1 (yes)\n",
    "train['ever_married'] = train['ever_married'].replace({\"No\":0, \"Yes\":1})\n",
    "test['ever_married'] = test['ever_married'].replace({\"No\":0, \"Yes\":1})\n",
    "print(train['ever_married'].unique())\n",
    "test['ever_married'].unique()"
   ]
  },
  {
   "cell_type": "code",
   "execution_count": 11,
   "metadata": {},
   "outputs": [
    {
     "data": {
      "text/plain": [
       "array(['Urban', 'Rural'], dtype=object)"
      ]
     },
     "execution_count": 11,
     "metadata": {},
     "output_type": "execute_result"
    }
   ],
   "source": [
    "# checking residence type variable values\n",
    "train['Residence_type'].unique()"
   ]
  },
  {
   "cell_type": "code",
   "execution_count": 12,
   "metadata": {},
   "outputs": [],
   "source": [
    "# making residence type into a numerical dummy (0: Urban, 1:Rural)\n",
    "train['Residence_type'] = train['Residence_type'].replace({\"Urban\":0, \"Rural\":1})\n",
    "test['Residence_type'] = test['Residence_type'].replace({\"Urban\":0, \"Rural\":1})"
   ]
  },
  {
   "cell_type": "code",
   "execution_count": 13,
   "metadata": {},
   "outputs": [
    {
     "name": "stdout",
     "output_type": "stream",
     "text": [
      "[0 1]\n"
     ]
    },
    {
     "data": {
      "text/plain": [
       "array([0, 1])"
      ]
     },
     "execution_count": 13,
     "metadata": {},
     "output_type": "execute_result"
    }
   ],
   "source": [
    "print(train['Residence_type'].unique())\n",
    "test['Residence_type'].unique()"
   ]
  },
  {
   "cell_type": "code",
   "execution_count": 14,
   "metadata": {},
   "outputs": [
    {
     "data": {
      "text/plain": [
       "0"
      ]
     },
     "execution_count": 14,
     "metadata": {},
     "output_type": "execute_result"
    }
   ],
   "source": [
    "#checking avg glucose level variable nan values\n",
    "train['avg_glucose_level'].isna().sum()"
   ]
  },
  {
   "cell_type": "code",
   "execution_count": 15,
   "metadata": {},
   "outputs": [
    {
     "data": {
      "text/plain": [
       "array(['Male', 'Female', 'Other'], dtype=object)"
      ]
     },
     "execution_count": 15,
     "metadata": {},
     "output_type": "execute_result"
    }
   ],
   "source": [
    "#checking gender variable values\n",
    "train['gender'].unique()"
   ]
  },
  {
   "cell_type": "code",
   "execution_count": 16,
   "metadata": {},
   "outputs": [
    {
     "name": "stdout",
     "output_type": "stream",
     "text": [
      "[0 1 2]\n"
     ]
    },
    {
     "data": {
      "text/plain": [
       "array([0, 1])"
      ]
     },
     "execution_count": 16,
     "metadata": {},
     "output_type": "execute_result"
    }
   ],
   "source": [
    "#changing gender values to numbers (0:male, 1:female, 2:other)\n",
    "train['gender'] = train['gender'].replace({\"Male\":0, \"Female\":1, \"Other\":2})\n",
    "test['gender'] = test['gender'].replace({\"Male\":0, \"Female\":1, \"Other\":2})\n",
    "print(train['gender'].unique())\n",
    "test['gender'].unique()"
   ]
  },
  {
   "cell_type": "code",
   "execution_count": 17,
   "metadata": {},
   "outputs": [
    {
     "data": {
      "text/plain": [
       "159"
      ]
     },
     "execution_count": 17,
     "metadata": {},
     "output_type": "execute_result"
    }
   ],
   "source": [
    "#checking missing values for bmi\n",
    "train['bmi'].isna().sum()"
   ]
  },
  {
   "cell_type": "code",
   "execution_count": 18,
   "metadata": {},
   "outputs": [],
   "source": [
    "#using average bmi values \n",
    "train['bmi'] = train['bmi'].fillna(train['bmi'].mean())\n",
    "test['bmi'] = test['bmi'].fillna(test['bmi'].mean())"
   ]
  },
  {
   "cell_type": "code",
   "execution_count": 19,
   "metadata": {},
   "outputs": [
    {
     "name": "stdout",
     "output_type": "stream",
     "text": [
      "0\n"
     ]
    },
    {
     "data": {
      "text/plain": [
       "0"
      ]
     },
     "execution_count": 19,
     "metadata": {},
     "output_type": "execute_result"
    }
   ],
   "source": [
    "# checking all na values are gone\n",
    "print(test['bmi'].isna().sum())\n",
    "train['bmi'].isna().sum()"
   ]
  },
  {
   "cell_type": "code",
   "execution_count": 20,
   "metadata": {},
   "outputs": [
    {
     "data": {
      "text/plain": [
       "never smoked       1505\n",
       "Unknown            1241\n",
       "formerly smoked     699\n",
       "smokes              642\n",
       "Name: smoking_status, dtype: int64"
      ]
     },
     "execution_count": 20,
     "metadata": {},
     "output_type": "execute_result"
    }
   ],
   "source": [
    "train['smoking_status'].value_counts()"
   ]
  },
  {
   "cell_type": "code",
   "execution_count": 21,
   "metadata": {},
   "outputs": [
    {
     "name": "stdout",
     "output_type": "stream",
     "text": [
      "0    1505\n",
      "3    1241\n",
      "1     699\n",
      "2     642\n",
      "Name: smoking_status, dtype: int64\n"
     ]
    },
    {
     "data": {
      "text/plain": [
       "0    387\n",
       "3    303\n",
       "1    186\n",
       "2    147\n",
       "Name: smoking_status, dtype: int64"
      ]
     },
     "execution_count": 21,
     "metadata": {},
     "output_type": "execute_result"
    }
   ],
   "source": [
    "#transforming smoking status variable to numeric (0:never, 1:formerly, 2:smokes, 3:unknown)\n",
    "train['smoking_status'] = train['smoking_status'].replace({\"never smoked\":0, \"formerly smoked\":1, \"smokes\":2, \n",
    "                                                          \"Unknown\":3})\n",
    "test['smoking_status'] = test['smoking_status'].replace({\"never smoked\":0, \"formerly smoked\":1, \"smokes\":2, \n",
    "                                                          \"Unknown\":3})\n",
    "print(train[\"smoking_status\"].value_counts())\n",
    "test['smoking_status'].value_counts()"
   ]
  },
  {
   "cell_type": "code",
   "execution_count": 22,
   "metadata": {},
   "outputs": [],
   "source": [
    "# sectioning interested variables into the train and test sets being used in the model\n",
    "X_train = train.drop(['stroke', 'id', \"Unnamed: 0\", 'work_type'], axis=1 )\n",
    "y_train = train['stroke']\n",
    "X_test = test.drop(['stroke', 'id', \"Unnamed: 0\", 'work_type'], axis=1 )\n",
    "y_test = test['stroke']"
   ]
  },
  {
   "cell_type": "code",
   "execution_count": 23,
   "metadata": {},
   "outputs": [],
   "source": [
    "# loading linear model packages \n",
    "from sklearn.linear_model import LinearRegression as lr\n",
    "\n",
    "TSS = np.sum( (y_test - y_test.mean())**2 )\n",
    "N_test = len(y_test)"
   ]
  },
  {
   "cell_type": "code",
   "execution_count": 24,
   "metadata": {},
   "outputs": [
    {
     "name": "stdout",
     "output_type": "stream",
     "text": [
      "R-Squared:  0.07751055818418306\n",
      "RMSE:  0.20708397403676543\n"
     ]
    }
   ],
   "source": [
    "#fitting model and making predictions for test data\n",
    "reg = lr().fit(X_train, y_train)\n",
    "y_hat = reg.predict(X_test)\n",
    "\n",
    "#calculating r-squared\n",
    "rsqu = reg.score(X_test, y_test)\n",
    "print(\"R-Squared: \", rsqu )\n",
    "\n",
    "#calculating RMSE\n",
    "SSE_lm =np.sum((y_test-y_hat)**2)\n",
    "RMSE_lm = (SSE_lm/N_test)**(1/2)\n",
    "R2_lm = 1-SSE_lm/TSS\n",
    "print('RMSE: ', RMSE_lm)\n"
   ]
  },
  {
   "cell_type": "markdown",
   "metadata": {},
   "source": [
    "New Linear Regression Using Expanded Polynomials"
   ]
  },
  {
   "cell_type": "code",
   "execution_count": 25,
   "metadata": {},
   "outputs": [],
   "source": [
    "from sklearn.preprocessing import PolynomialFeatures\n",
    "#creating a function for the expander process\n",
    "def poly_expand (dat, deg):\n",
    "  expander = PolynomialFeatures(degree = deg, include_bias=False)\n",
    "  Z = expander.fit_transform(dat)\n",
    "  names = expander.get_feature_names()\n",
    "  zdf = pd.DataFrame(data=Z, columns=names)\n",
    "  return zdf\n",
    "\n",
    "#creating a function for the regression\n",
    "def lin_reg (X_train, y_train, X_test, y_test):\n",
    "  reg_all = lr().fit(X_train, y_train)\n",
    "  y_hat = reg_all.predict(X_test)\n",
    "  #r-squared value\n",
    "  r_squ = reg_all.score(X_test, y_test)\n",
    "  # Metrics:\n",
    "  SSE_lm = np.sum( (y_test-y_hat)**2 )\n",
    "  RMSE_lm = (SSE_lm/N_test)**(1/2)\n",
    "  R2_lm = 1 - SSE_lm/TSS\n",
    "  return r_squ, RMSE_lm"
   ]
  },
  {
   "cell_type": "code",
   "execution_count": 26,
   "metadata": {},
   "outputs": [
    {
     "data": {
      "text/plain": [
       "(0.07751055818418306, 0.20708397403676543)"
      ]
     },
     "execution_count": 26,
     "metadata": {},
     "output_type": "execute_result"
    }
   ],
   "source": [
    "#running polynomial expander with a degree of 2\n",
    "poly_expand(X_train, 2)\n",
    "poly_expand(X_test, 2)\n",
    "lin_reg(X_train, y_train, X_test, y_test)"
   ]
  },
  {
   "cell_type": "code",
   "execution_count": 27,
   "metadata": {},
   "outputs": [
    {
     "data": {
      "text/plain": [
       "(0.07751055818418306, 0.20708397403676543)"
      ]
     },
     "execution_count": 27,
     "metadata": {},
     "output_type": "execute_result"
    }
   ],
   "source": [
    "#running polynomial expander with a degree of 3\n",
    "poly_expand(X_train, 3)\n",
    "poly_expand(X_test, 3)\n",
    "lin_reg(X_train, y_train, X_test, y_test)"
   ]
  }
 ],
 "metadata": {
  "kernelspec": {
   "display_name": "Python 3",
   "language": "python",
   "name": "python3"
  },
  "language_info": {
   "codemirror_mode": {
    "name": "ipython",
    "version": 3
   },
   "file_extension": ".py",
   "mimetype": "text/x-python",
   "name": "python",
   "nbconvert_exporter": "python",
   "pygments_lexer": "ipython3",
   "version": "3.8.8"
  }
 },
 "nbformat": 4,
 "nbformat_minor": 4
}
